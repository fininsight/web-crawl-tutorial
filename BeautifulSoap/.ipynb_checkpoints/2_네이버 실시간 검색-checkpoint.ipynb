{
 "cells": [
  {
   "cell_type": "code",
   "execution_count": 3,
   "metadata": {},
   "outputs": [],
   "source": [
    "import requests\n",
    "from bs4 import BeautifulSoup\n",
    "\n",
    "req = requests.get('https://www.naver.com/')\n",
    "source = req.text\n",
    "soup = BeautifulSoup(source, 'html.parser')"
   ]
  },
  {
   "cell_type": "code",
   "execution_count": 4,
   "metadata": {},
   "outputs": [
    {
     "name": "stdout",
     "output_type": "stream",
     "text": [
      "[<span class=\"ah_k\">첼시 아스날</span>, <span class=\"ah_k\">김희영</span>, <span class=\"ah_k\">아스날 첼시</span>, <span class=\"ah_k\">유로파 결승</span>, <span class=\"ah_k\">UEFA 유로파리그</span>, <span class=\"ah_k\">김현철 정신과의사</span>, <span class=\"ah_k\">티앤씨재단 김희영</span>, <span class=\"ah_k\">첼시</span>, <span class=\"ah_k\">조로우</span>, <span class=\"ah_k\">체흐</span>, <span class=\"ah_k\">롤 점검</span>, <span class=\"ah_k\">아자르</span>, <span class=\"ah_k\">최태원</span>, <span class=\"ah_k\">희토류</span>, <span class=\"ah_k\">싸이</span>, <span class=\"ah_k\">지루</span>, <span class=\"ah_k\">토트넘 리버풀</span>, <span class=\"ah_k\">노소영</span>, <span class=\"ah_k\">송가인</span>, <span class=\"ah_k\">백종원의 골목식당</span>]\n"
     ]
    }
   ],
   "source": [
    "print(soup.select(\"#PM_ID_ct > div.header > div.section_navbar > div.area_hotkeyword.PM_CL_realtimeKeyword_base > div.ah_roll.PM_CL_realtimeKeyword_rolling_base > div > ul > li > a > span.ah_k\"))"
   ]
  },
  {
   "cell_type": "code",
   "execution_count": 9,
   "metadata": {},
   "outputs": [
    {
     "data": {
      "text/plain": [
       "'첼시 아스날'"
      ]
     },
     "execution_count": 9,
     "metadata": {},
     "output_type": "execute_result"
    }
   ],
   "source": [
    "top_list = soup.select(\"#PM_ID_ct > div.header > div.section_navbar > div.area_hotkeyword.PM_CL_realtimeKeyword_base > div.ah_roll.PM_CL_realtimeKeyword_rolling_base > div > ul > li > a > span.ah_k\")\n",
    "\n",
    "top_list[0].text"
   ]
  },
  {
   "cell_type": "code",
   "execution_count": 11,
   "metadata": {},
   "outputs": [
    {
     "name": "stdout",
     "output_type": "stream",
     "text": [
      "첼시 아스날\n",
      "김희영\n",
      "아스날 첼시\n",
      "유로파 결승\n",
      "UEFA 유로파리그\n",
      "김현철 정신과의사\n",
      "티앤씨재단 김희영\n",
      "첼시\n",
      "조로우\n",
      "체흐\n",
      "롤 점검\n",
      "아자르\n",
      "최태원\n",
      "희토류\n",
      "싸이\n",
      "지루\n",
      "토트넘 리버풀\n",
      "노소영\n",
      "송가인\n",
      "백종원의 골목식당\n"
     ]
    }
   ],
   "source": [
    "for top in top_list:\n",
    "    print(top.text)"
   ]
  },
  {
   "cell_type": "code",
   "execution_count": null,
   "metadata": {},
   "outputs": [],
   "source": []
  }
 ],
 "metadata": {
  "kernelspec": {
   "display_name": "Python 3",
   "language": "python",
   "name": "python3"
  },
  "language_info": {
   "codemirror_mode": {
    "name": "ipython",
    "version": 3
   },
   "file_extension": ".py",
   "mimetype": "text/x-python",
   "name": "python",
   "nbconvert_exporter": "python",
   "pygments_lexer": "ipython3",
   "version": "3.6.5"
  }
 },
 "nbformat": 4,
 "nbformat_minor": 2
}
