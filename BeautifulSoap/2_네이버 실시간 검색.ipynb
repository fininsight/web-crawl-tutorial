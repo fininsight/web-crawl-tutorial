{
 "cells": [
  {
   "cell_type": "code",
   "execution_count": 1,
   "metadata": {},
   "outputs": [],
   "source": [
    "import requests\n",
    "from bs4 import BeautifulSoup\n",
    "\n",
    "req = requests.get('https://www.naver.com/')\n",
    "source = req.text\n",
    "soup = BeautifulSoup(source, 'html.parser')"
   ]
  },
  {
   "cell_type": "code",
   "execution_count": 2,
   "metadata": {},
   "outputs": [
    {
     "name": "stdout",
     "output_type": "stream",
     "text": [
      "[<span class=\"ah_k\">헝가리</span>, <span class=\"ah_k\">참좋은여행사</span>, <span class=\"ah_k\">첼시 아스날</span>, <span class=\"ah_k\">김희영 이사장</span>, <span class=\"ah_k\">부다페스트</span>, <span class=\"ah_k\">김나희</span>, <span class=\"ah_k\">조로우</span>, <span class=\"ah_k\">다뉴브강</span>, <span class=\"ah_k\">티앤씨재단 김희영</span>, <span class=\"ah_k\">싸이</span>, <span class=\"ah_k\">신림동 cctv</span>, <span class=\"ah_k\">최태원</span>, <span class=\"ah_k\">유람선</span>, <span class=\"ah_k\">아스날 첼시</span>, <span class=\"ah_k\">노소영</span>, <span class=\"ah_k\">조두순</span>, <span class=\"ah_k\">미스트롯 김나희</span>, <span class=\"ah_k\">유로파 결승</span>, <span class=\"ah_k\">아자르</span>, <span class=\"ah_k\">크릴오일</span>]\n"
     ]
    }
   ],
   "source": [
    "print(soup.select(\"#PM_ID_ct > div.header > div.section_navbar > div.area_hotkeyword.PM_CL_realtimeKeyword_base > div.ah_roll.PM_CL_realtimeKeyword_rolling_base > div > ul > li > a > span.ah_k\"))"
   ]
  },
  {
   "cell_type": "code",
   "execution_count": 3,
   "metadata": {},
   "outputs": [
    {
     "data": {
      "text/plain": [
       "'헝가리'"
      ]
     },
     "execution_count": 3,
     "metadata": {},
     "output_type": "execute_result"
    }
   ],
   "source": [
    "top_list = soup.select(\"#PM_ID_ct > div.header > div.section_navbar > div.area_hotkeyword.PM_CL_realtimeKeyword_base > div.ah_roll.PM_CL_realtimeKeyword_rolling_base > div > ul > li > a > span.ah_k\")\n",
    "\n",
    "top_list[0].text"
   ]
  },
  {
   "cell_type": "code",
   "execution_count": 4,
   "metadata": {},
   "outputs": [
    {
     "name": "stdout",
     "output_type": "stream",
     "text": [
      "헝가리\n",
      "참좋은여행사\n",
      "첼시 아스날\n",
      "김희영 이사장\n",
      "부다페스트\n",
      "김나희\n",
      "조로우\n",
      "다뉴브강\n",
      "티앤씨재단 김희영\n",
      "싸이\n",
      "신림동 cctv\n",
      "최태원\n",
      "유람선\n",
      "아스날 첼시\n",
      "노소영\n",
      "조두순\n",
      "미스트롯 김나희\n",
      "유로파 결승\n",
      "아자르\n",
      "크릴오일\n"
     ]
    }
   ],
   "source": [
    "for top in top_list:\n",
    "    print(top.text)"
   ]
  },
  {
   "cell_type": "code",
   "execution_count": null,
   "metadata": {},
   "outputs": [],
   "source": []
  }
 ],
 "metadata": {
  "kernelspec": {
   "display_name": "Python 3",
   "language": "python",
   "name": "python3"
  },
  "language_info": {
   "codemirror_mode": {
    "name": "ipython",
    "version": 3
   },
   "file_extension": ".py",
   "mimetype": "text/x-python",
   "name": "python",
   "nbconvert_exporter": "python",
   "pygments_lexer": "ipython3",
   "version": "3.6.5"
  }
 },
 "nbformat": 4,
 "nbformat_minor": 2
}
